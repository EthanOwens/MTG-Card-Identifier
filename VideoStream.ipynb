{
 "cells": [
  {
   "cell_type": "code",
   "execution_count": 2,
   "id": "f15eb104",
   "metadata": {},
   "outputs": [],
   "source": [
    "from threading import Thread\n",
    "import cv2\n",
    "import ctypes\n",
    "\n",
    "class VideoStream:\n",
    "#     def __init__(self, resolution = (640, 480), framerate = 30, src = 0):\n",
    "    def __init__(self, resolution = (640, 480)):\n",
    "        self.resolution = resolution\n",
    "#         self.src = src\n",
    "        self.capture = cv2.VideoCapture(0)\n",
    "        self.capture.set(3, self.resolution[0])\n",
    "        self.capture.set(4, self.resolution[1])\n",
    "        \n",
    "        \n",
    "        (self.grabbed, self.frame) = self.capture.read()\n",
    "        \n",
    "        self.stopped = False\n",
    "        \n",
    "    def start(self):\n",
    "        Thread(target = self.update, args = ()).start()\n",
    "        return self\n",
    "    \n",
    "    def update(self):\n",
    "        while not self.stopped: \n",
    "            if not self.grabbed:\n",
    "                self.stop()\n",
    "            else:\n",
    "                (self.grabbed, self.frame) = self.capture.read()\n",
    "    \n",
    "    def read(self):\n",
    "        return self.frame\n",
    "    \n",
    "    def stop(self):\n",
    "        self.stopped = True\n",
    "        \n",
    "    \n",
    "        "
   ]
  },
  {
   "cell_type": "code",
   "execution_count": null,
   "id": "67b35b3f",
   "metadata": {},
   "outputs": [],
   "source": []
  },
  {
   "cell_type": "code",
   "execution_count": null,
   "id": "7bbcbc45",
   "metadata": {},
   "outputs": [],
   "source": []
  },
  {
   "cell_type": "code",
   "execution_count": null,
   "id": "3047bb85",
   "metadata": {},
   "outputs": [],
   "source": []
  }
 ],
 "metadata": {
  "kernelspec": {
   "display_name": "Python 3 (ipykernel)",
   "language": "python",
   "name": "python3"
  },
  "language_info": {
   "codemirror_mode": {
    "name": "ipython",
    "version": 3
   },
   "file_extension": ".py",
   "mimetype": "text/x-python",
   "name": "python",
   "nbconvert_exporter": "python",
   "pygments_lexer": "ipython3",
   "version": "3.9.7"
  }
 },
 "nbformat": 4,
 "nbformat_minor": 5
}
