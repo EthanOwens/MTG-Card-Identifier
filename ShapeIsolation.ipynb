{
 "cells": [
  {
   "cell_type": "code",
   "execution_count": 38,
   "id": "484e1f02",
   "metadata": {},
   "outputs": [],
   "source": [
    "def preprocess(img):\n",
    "    gray = cv2.cvtColor(img, cv2.COLOR_BGR2GRAY)\n",
    "    blur = cv2.GaussianBlur(gray, (5, 5), 0)\n",
    "    img_width, img_height = np.shape(img)[:2]\n",
    "    background_lvl = gray[int(img_width/2)][int(img_height/100)]\n",
    "    thresh_lvl = background_lvl + 60\n",
    "    \n",
    "    flag, thresh = cv2.threshold(blur, thresh_lvl, 255, cv2.THRESH_BINARY)\n",
    "    \n",
    "    return thresh"
   ]
  },
  {
   "cell_type": "code",
   "execution_count": 20,
   "id": "140b701e",
   "metadata": {},
   "outputs": [],
   "source": [
    "import numpy as np\n",
    "\n",
    "CARD_MAX_SIZE = 20000\n",
    "CARD_MIN_SIZE = 7000\n",
    "def find_cards(threshed_image):\n",
    "    contours, hierarchy = cv2.findContours(threshed_image, cv2.RETR_TREE, cv2.CHAIN_APPROX_SIMPLE)\n",
    "    sorted_contours = sorted(contours, key = cv2.contourArea, reverse = True)\n",
    "    \n",
    "    if len(contours) == 0:\n",
    "        return []\n",
    "    \n",
    "    contours_list = []\n",
    "    hier_list = []\n",
    "    for i in range(len(sorted_contours)):\n",
    "        contours_list.append(contours[i])\n",
    "        hier_list.append(hierarchy[0][i])\n",
    "        \n",
    "    card_contours = []\n",
    "    approx_list = []\n",
    "    for i in range(len(contours_list)):\n",
    "        size = cv2.contourArea(contours_list[i])\n",
    "        peri = cv2.arcLength(contours_list[i], True)\n",
    "        approx = np.array(cv2.approxPolyDP(contours_list[i], 0.03*peri, True), np.float32)\n",
    "        \n",
    "        if ((size < CARD_MAX_SIZE) and (size > CARD_MIN_SIZE)) and (len(approx) == 4) and (hier_list[i][3] == -1):\n",
    "            card_contours.append(contours_list[i])\n",
    "            approx_list.append(approx)\n",
    "    if len(card_contours) > 0:\n",
    "        return card_contours, approx_list\n",
    "    else:\n",
    "        return [], []"
   ]
  },
  {
   "cell_type": "code",
   "execution_count": 7,
   "id": "dfb30b18",
   "metadata": {
    "scrolled": true
   },
   "outputs": [],
   "source": [
    "import cv2\n",
    "\n",
    "# test_pic = test_card_pics[0]\n",
    "# image = cv2.imread(test_pic[0])\n",
    "def draw_contours(image):\n",
    "\n",
    "\n",
    "    thresh = preprocess(image)\n",
    "    try:\n",
    "        cards, approx = find_cards(thresh)\n",
    "    except:\n",
    "        print(\"card image failed to save\")\n",
    "        return 0\n",
    "\n",
    "    cv2.drawContours(image, cards, -1, (0, 255, 0), 3)\n",
    "\n",
    "    for i in range(len(cards)):\n",
    "        h = np.array([[0,0],[499,0],[499,499],[0,499]],np.float32)\n",
    "        transform = cv2.getPerspectiveTransform(approx[i], h)\n",
    "        cards.append(cv2.warpPerspective(image, transform, (500, 500)))\n",
    "\n",
    "#         print(\"Card image saved\")\n",
    "    "
   ]
  },
  {
   "cell_type": "code",
   "execution_count": 4,
   "id": "19f586b2",
   "metadata": {},
   "outputs": [],
   "source": [
    "%run VideoStream.ipynb\n",
    "import time\n",
    "\n",
    "WIDTH, HEIGHT = 1000, 1000\n",
    "FRAMERATE = 60\n",
    "def threadVideo():\n",
    "        video_receiver = VideoStream().start()\n",
    "        window_name = 'frame'\n",
    "        while(True):\n",
    "            if (cv2.waitKey(1) == ord(\"q\")) or video_receiver.stopped:\n",
    "                video_receiver.stop()\n",
    "                cv2.destroyAllWindows()\n",
    "                break\n",
    "            frame = video_receiver.frame\n",
    "            cv2.imshow(window_name, frame)\n",
    "            draw_contours(frame)"
   ]
  },
  {
   "cell_type": "code",
   "execution_count": 41,
   "id": "9f5d7ca0",
   "metadata": {},
   "outputs": [
    {
     "name": "stdout",
     "output_type": "stream",
     "text": [
      "card image failed to save\n",
      "card image failed to save\n",
      "card image failed to save\n",
      "card image failed to save\n",
      "card image failed to save\n",
      "card image failed to save\n",
      "card image failed to save\n",
      "card image failed to save\n",
      "card image failed to save\n",
      "card image failed to save\n",
      "card image failed to save\n",
      "card image failed to save\n",
      "card image failed to save\n",
      "card image failed to save\n",
      "card image failed to save\n",
      "card image failed to save\n",
      "card image failed to save\n",
      "card image failed to save\n",
      "card image failed to save\n",
      "card image failed to save\n",
      "card image failed to save\n",
      "card image failed to save\n",
      "card image failed to save\n",
      "card image failed to save\n",
      "card image failed to save\n",
      "card image failed to save\n",
      "card image failed to save\n",
      "card image failed to save\n",
      "card image failed to save\n",
      "card image failed to save\n",
      "card image failed to save\n",
      "card image failed to save\n",
      "card image failed to save\n",
      "card image failed to save\n",
      "card image failed to save\n",
      "card image failed to save\n",
      "card image failed to save\n",
      "card image failed to save\n",
      "card image failed to save\n",
      "card image failed to save\n",
      "card image failed to save\n",
      "card image failed to save\n",
      "card image failed to save\n",
      "card image failed to save\n",
      "card image failed to save\n",
      "card image failed to save\n",
      "card image failed to save\n",
      "card image failed to save\n",
      "card image failed to save\n",
      "card image failed to save\n"
     ]
    }
   ],
   "source": [
    "threadVideo()"
   ]
  },
  {
   "cell_type": "code",
   "execution_count": null,
   "id": "67dafd70",
   "metadata": {},
   "outputs": [],
   "source": []
  }
 ],
 "metadata": {
  "kernelspec": {
   "display_name": "Python 3 (ipykernel)",
   "language": "python",
   "name": "python3"
  },
  "language_info": {
   "codemirror_mode": {
    "name": "ipython",
    "version": 3
   },
   "file_extension": ".py",
   "mimetype": "text/x-python",
   "name": "python",
   "nbconvert_exporter": "python",
   "pygments_lexer": "ipython3",
   "version": "3.9.7"
  }
 },
 "nbformat": 4,
 "nbformat_minor": 5
}
